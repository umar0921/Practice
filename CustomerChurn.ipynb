{
  "nbformat": 4,
  "nbformat_minor": 0,
  "metadata": {
    "colab": {
      "name": "CustomerChurn.ipynb",
      "provenance": [],
      "collapsed_sections": [],
      "authorship_tag": "ABX9TyMbVv333PIYWxeVsQoVEF6Q",
      "include_colab_link": true
    },
    "kernelspec": {
      "name": "python3",
      "display_name": "Python 3"
    },
    "language_info": {
      "name": "python"
    },
    "accelerator": "GPU"
  },
  "cells": [
    {
      "cell_type": "markdown",
      "metadata": {
        "id": "view-in-github",
        "colab_type": "text"
      },
      "source": [
        "<a href=\"https://colab.research.google.com/github/umar0921/Practice/blob/main/CustomerChurn.ipynb\" target=\"_parent\"><img src=\"https://colab.research.google.com/assets/colab-badge.svg\" alt=\"Open In Colab\"/></a>"
      ]
    },
    {
      "cell_type": "code",
      "metadata": {
        "id": "XgcdfFUuMxdv"
      },
      "source": [
        "import numpy as np\n",
        "import pandas as pd"
      ],
      "execution_count": 1,
      "outputs": []
    },
    {
      "cell_type": "code",
      "metadata": {
        "colab": {
          "base_uri": "https://localhost:8080/",
          "height": 617
        },
        "id": "AN-8BQzuNLyy",
        "outputId": "55a5ec12-0608-48a9-e39b-32a2420f9246"
      },
      "source": [
        "df = pd.read_csv(\"/content/WA_Fn-UseC_-Telco-Customer-Churn.csv\")\n",
        "df"
      ],
      "execution_count": 2,
      "outputs": [
        {
          "output_type": "execute_result",
          "data": {
            "text/html": [
              "<div>\n",
              "<style scoped>\n",
              "    .dataframe tbody tr th:only-of-type {\n",
              "        vertical-align: middle;\n",
              "    }\n",
              "\n",
              "    .dataframe tbody tr th {\n",
              "        vertical-align: top;\n",
              "    }\n",
              "\n",
              "    .dataframe thead th {\n",
              "        text-align: right;\n",
              "    }\n",
              "</style>\n",
              "<table border=\"1\" class=\"dataframe\">\n",
              "  <thead>\n",
              "    <tr style=\"text-align: right;\">\n",
              "      <th></th>\n",
              "      <th>customerID</th>\n",
              "      <th>gender</th>\n",
              "      <th>SeniorCitizen</th>\n",
              "      <th>Partner</th>\n",
              "      <th>Dependents</th>\n",
              "      <th>tenure</th>\n",
              "      <th>PhoneService</th>\n",
              "      <th>MultipleLines</th>\n",
              "      <th>InternetService</th>\n",
              "      <th>OnlineSecurity</th>\n",
              "      <th>OnlineBackup</th>\n",
              "      <th>DeviceProtection</th>\n",
              "      <th>TechSupport</th>\n",
              "      <th>StreamingTV</th>\n",
              "      <th>StreamingMovies</th>\n",
              "      <th>Contract</th>\n",
              "      <th>PaperlessBilling</th>\n",
              "      <th>PaymentMethod</th>\n",
              "      <th>MonthlyCharges</th>\n",
              "      <th>TotalCharges</th>\n",
              "      <th>Churn</th>\n",
              "    </tr>\n",
              "  </thead>\n",
              "  <tbody>\n",
              "    <tr>\n",
              "      <th>0</th>\n",
              "      <td>7590-VHVEG</td>\n",
              "      <td>Female</td>\n",
              "      <td>0</td>\n",
              "      <td>Yes</td>\n",
              "      <td>No</td>\n",
              "      <td>1</td>\n",
              "      <td>No</td>\n",
              "      <td>No phone service</td>\n",
              "      <td>DSL</td>\n",
              "      <td>No</td>\n",
              "      <td>Yes</td>\n",
              "      <td>No</td>\n",
              "      <td>No</td>\n",
              "      <td>No</td>\n",
              "      <td>No</td>\n",
              "      <td>Month-to-month</td>\n",
              "      <td>Yes</td>\n",
              "      <td>Electronic check</td>\n",
              "      <td>29.85</td>\n",
              "      <td>29.85</td>\n",
              "      <td>No</td>\n",
              "    </tr>\n",
              "    <tr>\n",
              "      <th>1</th>\n",
              "      <td>5575-GNVDE</td>\n",
              "      <td>Male</td>\n",
              "      <td>0</td>\n",
              "      <td>No</td>\n",
              "      <td>No</td>\n",
              "      <td>34</td>\n",
              "      <td>Yes</td>\n",
              "      <td>No</td>\n",
              "      <td>DSL</td>\n",
              "      <td>Yes</td>\n",
              "      <td>No</td>\n",
              "      <td>Yes</td>\n",
              "      <td>No</td>\n",
              "      <td>No</td>\n",
              "      <td>No</td>\n",
              "      <td>One year</td>\n",
              "      <td>No</td>\n",
              "      <td>Mailed check</td>\n",
              "      <td>56.95</td>\n",
              "      <td>1889.5</td>\n",
              "      <td>No</td>\n",
              "    </tr>\n",
              "    <tr>\n",
              "      <th>2</th>\n",
              "      <td>3668-QPYBK</td>\n",
              "      <td>Male</td>\n",
              "      <td>0</td>\n",
              "      <td>No</td>\n",
              "      <td>No</td>\n",
              "      <td>2</td>\n",
              "      <td>Yes</td>\n",
              "      <td>No</td>\n",
              "      <td>DSL</td>\n",
              "      <td>Yes</td>\n",
              "      <td>Yes</td>\n",
              "      <td>No</td>\n",
              "      <td>No</td>\n",
              "      <td>No</td>\n",
              "      <td>No</td>\n",
              "      <td>Month-to-month</td>\n",
              "      <td>Yes</td>\n",
              "      <td>Mailed check</td>\n",
              "      <td>53.85</td>\n",
              "      <td>108.15</td>\n",
              "      <td>Yes</td>\n",
              "    </tr>\n",
              "    <tr>\n",
              "      <th>3</th>\n",
              "      <td>7795-CFOCW</td>\n",
              "      <td>Male</td>\n",
              "      <td>0</td>\n",
              "      <td>No</td>\n",
              "      <td>No</td>\n",
              "      <td>45</td>\n",
              "      <td>No</td>\n",
              "      <td>No phone service</td>\n",
              "      <td>DSL</td>\n",
              "      <td>Yes</td>\n",
              "      <td>No</td>\n",
              "      <td>Yes</td>\n",
              "      <td>Yes</td>\n",
              "      <td>No</td>\n",
              "      <td>No</td>\n",
              "      <td>One year</td>\n",
              "      <td>No</td>\n",
              "      <td>Bank transfer (automatic)</td>\n",
              "      <td>42.30</td>\n",
              "      <td>1840.75</td>\n",
              "      <td>No</td>\n",
              "    </tr>\n",
              "    <tr>\n",
              "      <th>4</th>\n",
              "      <td>9237-HQITU</td>\n",
              "      <td>Female</td>\n",
              "      <td>0</td>\n",
              "      <td>No</td>\n",
              "      <td>No</td>\n",
              "      <td>2</td>\n",
              "      <td>Yes</td>\n",
              "      <td>No</td>\n",
              "      <td>Fiber optic</td>\n",
              "      <td>No</td>\n",
              "      <td>No</td>\n",
              "      <td>No</td>\n",
              "      <td>No</td>\n",
              "      <td>No</td>\n",
              "      <td>No</td>\n",
              "      <td>Month-to-month</td>\n",
              "      <td>Yes</td>\n",
              "      <td>Electronic check</td>\n",
              "      <td>70.70</td>\n",
              "      <td>151.65</td>\n",
              "      <td>Yes</td>\n",
              "    </tr>\n",
              "    <tr>\n",
              "      <th>...</th>\n",
              "      <td>...</td>\n",
              "      <td>...</td>\n",
              "      <td>...</td>\n",
              "      <td>...</td>\n",
              "      <td>...</td>\n",
              "      <td>...</td>\n",
              "      <td>...</td>\n",
              "      <td>...</td>\n",
              "      <td>...</td>\n",
              "      <td>...</td>\n",
              "      <td>...</td>\n",
              "      <td>...</td>\n",
              "      <td>...</td>\n",
              "      <td>...</td>\n",
              "      <td>...</td>\n",
              "      <td>...</td>\n",
              "      <td>...</td>\n",
              "      <td>...</td>\n",
              "      <td>...</td>\n",
              "      <td>...</td>\n",
              "      <td>...</td>\n",
              "    </tr>\n",
              "    <tr>\n",
              "      <th>7038</th>\n",
              "      <td>6840-RESVB</td>\n",
              "      <td>Male</td>\n",
              "      <td>0</td>\n",
              "      <td>Yes</td>\n",
              "      <td>Yes</td>\n",
              "      <td>24</td>\n",
              "      <td>Yes</td>\n",
              "      <td>Yes</td>\n",
              "      <td>DSL</td>\n",
              "      <td>Yes</td>\n",
              "      <td>No</td>\n",
              "      <td>Yes</td>\n",
              "      <td>Yes</td>\n",
              "      <td>Yes</td>\n",
              "      <td>Yes</td>\n",
              "      <td>One year</td>\n",
              "      <td>Yes</td>\n",
              "      <td>Mailed check</td>\n",
              "      <td>84.80</td>\n",
              "      <td>1990.5</td>\n",
              "      <td>No</td>\n",
              "    </tr>\n",
              "    <tr>\n",
              "      <th>7039</th>\n",
              "      <td>2234-XADUH</td>\n",
              "      <td>Female</td>\n",
              "      <td>0</td>\n",
              "      <td>Yes</td>\n",
              "      <td>Yes</td>\n",
              "      <td>72</td>\n",
              "      <td>Yes</td>\n",
              "      <td>Yes</td>\n",
              "      <td>Fiber optic</td>\n",
              "      <td>No</td>\n",
              "      <td>Yes</td>\n",
              "      <td>Yes</td>\n",
              "      <td>No</td>\n",
              "      <td>Yes</td>\n",
              "      <td>Yes</td>\n",
              "      <td>One year</td>\n",
              "      <td>Yes</td>\n",
              "      <td>Credit card (automatic)</td>\n",
              "      <td>103.20</td>\n",
              "      <td>7362.9</td>\n",
              "      <td>No</td>\n",
              "    </tr>\n",
              "    <tr>\n",
              "      <th>7040</th>\n",
              "      <td>4801-JZAZL</td>\n",
              "      <td>Female</td>\n",
              "      <td>0</td>\n",
              "      <td>Yes</td>\n",
              "      <td>Yes</td>\n",
              "      <td>11</td>\n",
              "      <td>No</td>\n",
              "      <td>No phone service</td>\n",
              "      <td>DSL</td>\n",
              "      <td>Yes</td>\n",
              "      <td>No</td>\n",
              "      <td>No</td>\n",
              "      <td>No</td>\n",
              "      <td>No</td>\n",
              "      <td>No</td>\n",
              "      <td>Month-to-month</td>\n",
              "      <td>Yes</td>\n",
              "      <td>Electronic check</td>\n",
              "      <td>29.60</td>\n",
              "      <td>346.45</td>\n",
              "      <td>No</td>\n",
              "    </tr>\n",
              "    <tr>\n",
              "      <th>7041</th>\n",
              "      <td>8361-LTMKD</td>\n",
              "      <td>Male</td>\n",
              "      <td>1</td>\n",
              "      <td>Yes</td>\n",
              "      <td>No</td>\n",
              "      <td>4</td>\n",
              "      <td>Yes</td>\n",
              "      <td>Yes</td>\n",
              "      <td>Fiber optic</td>\n",
              "      <td>No</td>\n",
              "      <td>No</td>\n",
              "      <td>No</td>\n",
              "      <td>No</td>\n",
              "      <td>No</td>\n",
              "      <td>No</td>\n",
              "      <td>Month-to-month</td>\n",
              "      <td>Yes</td>\n",
              "      <td>Mailed check</td>\n",
              "      <td>74.40</td>\n",
              "      <td>306.6</td>\n",
              "      <td>Yes</td>\n",
              "    </tr>\n",
              "    <tr>\n",
              "      <th>7042</th>\n",
              "      <td>3186-AJIEK</td>\n",
              "      <td>Male</td>\n",
              "      <td>0</td>\n",
              "      <td>No</td>\n",
              "      <td>No</td>\n",
              "      <td>66</td>\n",
              "      <td>Yes</td>\n",
              "      <td>No</td>\n",
              "      <td>Fiber optic</td>\n",
              "      <td>Yes</td>\n",
              "      <td>No</td>\n",
              "      <td>Yes</td>\n",
              "      <td>Yes</td>\n",
              "      <td>Yes</td>\n",
              "      <td>Yes</td>\n",
              "      <td>Two year</td>\n",
              "      <td>Yes</td>\n",
              "      <td>Bank transfer (automatic)</td>\n",
              "      <td>105.65</td>\n",
              "      <td>6844.5</td>\n",
              "      <td>No</td>\n",
              "    </tr>\n",
              "  </tbody>\n",
              "</table>\n",
              "<p>7043 rows × 21 columns</p>\n",
              "</div>"
            ],
            "text/plain": [
              "      customerID  gender  SeniorCitizen  ... MonthlyCharges TotalCharges  Churn\n",
              "0     7590-VHVEG  Female              0  ...          29.85        29.85     No\n",
              "1     5575-GNVDE    Male              0  ...          56.95       1889.5     No\n",
              "2     3668-QPYBK    Male              0  ...          53.85       108.15    Yes\n",
              "3     7795-CFOCW    Male              0  ...          42.30      1840.75     No\n",
              "4     9237-HQITU  Female              0  ...          70.70       151.65    Yes\n",
              "...          ...     ...            ...  ...            ...          ...    ...\n",
              "7038  6840-RESVB    Male              0  ...          84.80       1990.5     No\n",
              "7039  2234-XADUH  Female              0  ...         103.20       7362.9     No\n",
              "7040  4801-JZAZL  Female              0  ...          29.60       346.45     No\n",
              "7041  8361-LTMKD    Male              1  ...          74.40        306.6    Yes\n",
              "7042  3186-AJIEK    Male              0  ...         105.65       6844.5     No\n",
              "\n",
              "[7043 rows x 21 columns]"
            ]
          },
          "metadata": {},
          "execution_count": 2
        }
      ]
    },
    {
      "cell_type": "code",
      "metadata": {
        "colab": {
          "base_uri": "https://localhost:8080/"
        },
        "id": "2e_1C2MSNL_4",
        "outputId": "e0643eaa-7cbd-4717-efa5-acec65b13671"
      },
      "source": [
        "df.info()"
      ],
      "execution_count": 3,
      "outputs": [
        {
          "output_type": "stream",
          "name": "stdout",
          "text": [
            "<class 'pandas.core.frame.DataFrame'>\n",
            "RangeIndex: 7043 entries, 0 to 7042\n",
            "Data columns (total 21 columns):\n",
            " #   Column            Non-Null Count  Dtype  \n",
            "---  ------            --------------  -----  \n",
            " 0   customerID        7043 non-null   object \n",
            " 1   gender            7043 non-null   object \n",
            " 2   SeniorCitizen     7043 non-null   int64  \n",
            " 3   Partner           7043 non-null   object \n",
            " 4   Dependents        7043 non-null   object \n",
            " 5   tenure            7043 non-null   int64  \n",
            " 6   PhoneService      7043 non-null   object \n",
            " 7   MultipleLines     7043 non-null   object \n",
            " 8   InternetService   7043 non-null   object \n",
            " 9   OnlineSecurity    7043 non-null   object \n",
            " 10  OnlineBackup      7043 non-null   object \n",
            " 11  DeviceProtection  7043 non-null   object \n",
            " 12  TechSupport       7043 non-null   object \n",
            " 13  StreamingTV       7043 non-null   object \n",
            " 14  StreamingMovies   7043 non-null   object \n",
            " 15  Contract          7043 non-null   object \n",
            " 16  PaperlessBilling  7043 non-null   object \n",
            " 17  PaymentMethod     7043 non-null   object \n",
            " 18  MonthlyCharges    7043 non-null   float64\n",
            " 19  TotalCharges      7043 non-null   object \n",
            " 20  Churn             7043 non-null   object \n",
            "dtypes: float64(1), int64(2), object(18)\n",
            "memory usage: 1.1+ MB\n"
          ]
        }
      ]
    },
    {
      "cell_type": "code",
      "metadata": {
        "colab": {
          "base_uri": "https://localhost:8080/",
          "height": 300
        },
        "id": "Gl2eKKkzNgT5",
        "outputId": "3ce5c3e1-61dd-49ae-809b-2bac216c878a"
      },
      "source": [
        "df.describe()"
      ],
      "execution_count": 4,
      "outputs": [
        {
          "output_type": "execute_result",
          "data": {
            "text/html": [
              "<div>\n",
              "<style scoped>\n",
              "    .dataframe tbody tr th:only-of-type {\n",
              "        vertical-align: middle;\n",
              "    }\n",
              "\n",
              "    .dataframe tbody tr th {\n",
              "        vertical-align: top;\n",
              "    }\n",
              "\n",
              "    .dataframe thead th {\n",
              "        text-align: right;\n",
              "    }\n",
              "</style>\n",
              "<table border=\"1\" class=\"dataframe\">\n",
              "  <thead>\n",
              "    <tr style=\"text-align: right;\">\n",
              "      <th></th>\n",
              "      <th>SeniorCitizen</th>\n",
              "      <th>tenure</th>\n",
              "      <th>MonthlyCharges</th>\n",
              "    </tr>\n",
              "  </thead>\n",
              "  <tbody>\n",
              "    <tr>\n",
              "      <th>count</th>\n",
              "      <td>7043.000000</td>\n",
              "      <td>7043.000000</td>\n",
              "      <td>7043.000000</td>\n",
              "    </tr>\n",
              "    <tr>\n",
              "      <th>mean</th>\n",
              "      <td>0.162147</td>\n",
              "      <td>32.371149</td>\n",
              "      <td>64.761692</td>\n",
              "    </tr>\n",
              "    <tr>\n",
              "      <th>std</th>\n",
              "      <td>0.368612</td>\n",
              "      <td>24.559481</td>\n",
              "      <td>30.090047</td>\n",
              "    </tr>\n",
              "    <tr>\n",
              "      <th>min</th>\n",
              "      <td>0.000000</td>\n",
              "      <td>0.000000</td>\n",
              "      <td>18.250000</td>\n",
              "    </tr>\n",
              "    <tr>\n",
              "      <th>25%</th>\n",
              "      <td>0.000000</td>\n",
              "      <td>9.000000</td>\n",
              "      <td>35.500000</td>\n",
              "    </tr>\n",
              "    <tr>\n",
              "      <th>50%</th>\n",
              "      <td>0.000000</td>\n",
              "      <td>29.000000</td>\n",
              "      <td>70.350000</td>\n",
              "    </tr>\n",
              "    <tr>\n",
              "      <th>75%</th>\n",
              "      <td>0.000000</td>\n",
              "      <td>55.000000</td>\n",
              "      <td>89.850000</td>\n",
              "    </tr>\n",
              "    <tr>\n",
              "      <th>max</th>\n",
              "      <td>1.000000</td>\n",
              "      <td>72.000000</td>\n",
              "      <td>118.750000</td>\n",
              "    </tr>\n",
              "  </tbody>\n",
              "</table>\n",
              "</div>"
            ],
            "text/plain": [
              "       SeniorCitizen       tenure  MonthlyCharges\n",
              "count    7043.000000  7043.000000     7043.000000\n",
              "mean        0.162147    32.371149       64.761692\n",
              "std         0.368612    24.559481       30.090047\n",
              "min         0.000000     0.000000       18.250000\n",
              "25%         0.000000     9.000000       35.500000\n",
              "50%         0.000000    29.000000       70.350000\n",
              "75%         0.000000    55.000000       89.850000\n",
              "max         1.000000    72.000000      118.750000"
            ]
          },
          "metadata": {},
          "execution_count": 4
        }
      ]
    },
    {
      "cell_type": "code",
      "metadata": {
        "colab": {
          "base_uri": "https://localhost:8080/"
        },
        "id": "2RRxekXWNgWv",
        "outputId": "55b43d73-6e51-4610-8376-afc6bb710df5"
      },
      "source": [
        "df.nunique()"
      ],
      "execution_count": 5,
      "outputs": [
        {
          "output_type": "execute_result",
          "data": {
            "text/plain": [
              "customerID          7043\n",
              "gender                 2\n",
              "SeniorCitizen          2\n",
              "Partner                2\n",
              "Dependents             2\n",
              "tenure                73\n",
              "PhoneService           2\n",
              "MultipleLines          3\n",
              "InternetService        3\n",
              "OnlineSecurity         3\n",
              "OnlineBackup           3\n",
              "DeviceProtection       3\n",
              "TechSupport            3\n",
              "StreamingTV            3\n",
              "StreamingMovies        3\n",
              "Contract               3\n",
              "PaperlessBilling       2\n",
              "PaymentMethod          4\n",
              "MonthlyCharges      1585\n",
              "TotalCharges        6531\n",
              "Churn                  2\n",
              "dtype: int64"
            ]
          },
          "metadata": {},
          "execution_count": 5
        }
      ]
    },
    {
      "cell_type": "code",
      "metadata": {
        "id": "ZaNRAwN3SP-n"
      },
      "source": [
        "df = df.drop(\"customerID\", axis = 1)"
      ],
      "execution_count": 6,
      "outputs": []
    },
    {
      "cell_type": "code",
      "metadata": {
        "id": "O2DSlsaKob_-"
      },
      "source": [
        "df[\"TotalCharges\"] = pd.to_numeric(df[\"TotalCharges\"], errors = \"coerce\")\n",
        "df[\"TotalCharges\"] = df[\"TotalCharges\"].fillna(df[\"TotalCharges\"].median())"
      ],
      "execution_count": 7,
      "outputs": []
    },
    {
      "cell_type": "code",
      "metadata": {
        "colab": {
          "base_uri": "https://localhost:8080/",
          "height": 424
        },
        "id": "CocONozZPWbr",
        "outputId": "31059b91-00a4-4d8e-90d9-809708b5149a"
      },
      "source": [
        "df_cont = df[[\"tenure\", \"MonthlyCharges\", \"TotalCharges\"]]\n",
        "df_cont"
      ],
      "execution_count": 8,
      "outputs": [
        {
          "output_type": "execute_result",
          "data": {
            "text/html": [
              "<div>\n",
              "<style scoped>\n",
              "    .dataframe tbody tr th:only-of-type {\n",
              "        vertical-align: middle;\n",
              "    }\n",
              "\n",
              "    .dataframe tbody tr th {\n",
              "        vertical-align: top;\n",
              "    }\n",
              "\n",
              "    .dataframe thead th {\n",
              "        text-align: right;\n",
              "    }\n",
              "</style>\n",
              "<table border=\"1\" class=\"dataframe\">\n",
              "  <thead>\n",
              "    <tr style=\"text-align: right;\">\n",
              "      <th></th>\n",
              "      <th>tenure</th>\n",
              "      <th>MonthlyCharges</th>\n",
              "      <th>TotalCharges</th>\n",
              "    </tr>\n",
              "  </thead>\n",
              "  <tbody>\n",
              "    <tr>\n",
              "      <th>0</th>\n",
              "      <td>1</td>\n",
              "      <td>29.85</td>\n",
              "      <td>29.85</td>\n",
              "    </tr>\n",
              "    <tr>\n",
              "      <th>1</th>\n",
              "      <td>34</td>\n",
              "      <td>56.95</td>\n",
              "      <td>1889.50</td>\n",
              "    </tr>\n",
              "    <tr>\n",
              "      <th>2</th>\n",
              "      <td>2</td>\n",
              "      <td>53.85</td>\n",
              "      <td>108.15</td>\n",
              "    </tr>\n",
              "    <tr>\n",
              "      <th>3</th>\n",
              "      <td>45</td>\n",
              "      <td>42.30</td>\n",
              "      <td>1840.75</td>\n",
              "    </tr>\n",
              "    <tr>\n",
              "      <th>4</th>\n",
              "      <td>2</td>\n",
              "      <td>70.70</td>\n",
              "      <td>151.65</td>\n",
              "    </tr>\n",
              "    <tr>\n",
              "      <th>...</th>\n",
              "      <td>...</td>\n",
              "      <td>...</td>\n",
              "      <td>...</td>\n",
              "    </tr>\n",
              "    <tr>\n",
              "      <th>7038</th>\n",
              "      <td>24</td>\n",
              "      <td>84.80</td>\n",
              "      <td>1990.50</td>\n",
              "    </tr>\n",
              "    <tr>\n",
              "      <th>7039</th>\n",
              "      <td>72</td>\n",
              "      <td>103.20</td>\n",
              "      <td>7362.90</td>\n",
              "    </tr>\n",
              "    <tr>\n",
              "      <th>7040</th>\n",
              "      <td>11</td>\n",
              "      <td>29.60</td>\n",
              "      <td>346.45</td>\n",
              "    </tr>\n",
              "    <tr>\n",
              "      <th>7041</th>\n",
              "      <td>4</td>\n",
              "      <td>74.40</td>\n",
              "      <td>306.60</td>\n",
              "    </tr>\n",
              "    <tr>\n",
              "      <th>7042</th>\n",
              "      <td>66</td>\n",
              "      <td>105.65</td>\n",
              "      <td>6844.50</td>\n",
              "    </tr>\n",
              "  </tbody>\n",
              "</table>\n",
              "<p>7043 rows × 3 columns</p>\n",
              "</div>"
            ],
            "text/plain": [
              "      tenure  MonthlyCharges  TotalCharges\n",
              "0          1           29.85         29.85\n",
              "1         34           56.95       1889.50\n",
              "2          2           53.85        108.15\n",
              "3         45           42.30       1840.75\n",
              "4          2           70.70        151.65\n",
              "...      ...             ...           ...\n",
              "7038      24           84.80       1990.50\n",
              "7039      72          103.20       7362.90\n",
              "7040      11           29.60        346.45\n",
              "7041       4           74.40        306.60\n",
              "7042      66          105.65       6844.50\n",
              "\n",
              "[7043 rows x 3 columns]"
            ]
          },
          "metadata": {},
          "execution_count": 8
        }
      ]
    },
    {
      "cell_type": "code",
      "metadata": {
        "id": "GzH_L5urPWew"
      },
      "source": [
        "df_cat = df.drop([\"Churn\", \"tenure\", \"MonthlyCharges\", \"TotalCharges\"], axis = 1)"
      ],
      "execution_count": 9,
      "outputs": []
    },
    {
      "cell_type": "code",
      "metadata": {
        "id": "H014_tOpSpwW"
      },
      "source": [
        "y = df[\"Churn\"]"
      ],
      "execution_count": 10,
      "outputs": []
    },
    {
      "cell_type": "code",
      "metadata": {
        "id": "lVyF7XjFSpy8"
      },
      "source": [
        "X = df.drop(\"Churn\", axis = 1)"
      ],
      "execution_count": 11,
      "outputs": []
    },
    {
      "cell_type": "code",
      "metadata": {
        "id": "3mSKEbpkSDqn"
      },
      "source": [
        "from sklearn.model_selection import train_test_split\n",
        "X_train, X_valid, y_train, y_valid = train_test_split(X, y, test_size=0.2, random_state= 42)"
      ],
      "execution_count": 12,
      "outputs": []
    },
    {
      "cell_type": "code",
      "metadata": {
        "id": "kEMr7aA8PWho"
      },
      "source": [
        "from sklearn.preprocessing import OneHotEncoder"
      ],
      "execution_count": 13,
      "outputs": []
    },
    {
      "cell_type": "code",
      "metadata": {
        "id": "F_G6BQWNPWkR"
      },
      "source": [
        "enc = OneHotEncoder(handle_unknown = \"ignore\", sparse = False)"
      ],
      "execution_count": 14,
      "outputs": []
    },
    {
      "cell_type": "code",
      "metadata": {
        "id": "2i-lwi8DTv0r"
      },
      "source": [
        "df_cat_train = X_train[df_cat.columns]\n",
        "enc_cat_train = pd.DataFrame(enc.fit_transform(df_cat_train))\n",
        "enc_cat_train.index = X_train.index\n",
        "df_num_train = X_train.drop(df_cat_train, axis = 1)\n",
        "X_train = pd.concat([df_num_train, enc_cat_train], axis = 1)"
      ],
      "execution_count": 15,
      "outputs": []
    },
    {
      "cell_type": "code",
      "metadata": {
        "id": "UWtyNTpJTv3m"
      },
      "source": [
        "df_cat_valid = X_valid[df_cat.columns]\n",
        "enc_cat_valid = pd.DataFrame(enc.transform(df_cat_valid))\n",
        "enc_cat_valid.index = X_valid.index\n",
        "df_num_valid = X_valid.drop(df_cat_valid, axis = 1)\n",
        "X_valid = pd.concat([df_num_valid, enc_cat_valid], axis = 1)"
      ],
      "execution_count": 16,
      "outputs": []
    },
    {
      "cell_type": "code",
      "metadata": {
        "id": "XLDZ0EJhTv58"
      },
      "source": [
        "y_train = y_train.astype('str')\n",
        "y_valid = y_valid.astype('str')\n",
        "y_train = y_train.replace({\"Yes\": 1, \"No\": 0}) \n",
        "y_valid = y_valid.replace({\"Yes\": 1, \"No\": 0}) "
      ],
      "execution_count": 17,
      "outputs": []
    },
    {
      "cell_type": "code",
      "metadata": {
        "colab": {
          "base_uri": "https://localhost:8080/"
        },
        "id": "qJOPhdrxabWs",
        "outputId": "6566a551-298e-48d6-b754-ec1e029c165a"
      },
      "source": [
        "X_train.shape"
      ],
      "execution_count": 18,
      "outputs": [
        {
          "output_type": "execute_result",
          "data": {
            "text/plain": [
              "(5634, 46)"
            ]
          },
          "metadata": {},
          "execution_count": 18
        }
      ]
    },
    {
      "cell_type": "code",
      "metadata": {
        "colab": {
          "base_uri": "https://localhost:8080/"
        },
        "id": "gv1EnGp5ctG_",
        "outputId": "cd1d3f8b-c2f3-476d-bfd7-d2e837c25b0f"
      },
      "source": [
        "y_train.shape"
      ],
      "execution_count": 19,
      "outputs": [
        {
          "output_type": "execute_result",
          "data": {
            "text/plain": [
              "(5634,)"
            ]
          },
          "metadata": {},
          "execution_count": 19
        }
      ]
    },
    {
      "cell_type": "code",
      "metadata": {
        "id": "AAKZhWbqZU6q"
      },
      "source": [
        "import tensorflow as tf\n",
        "from tensorflow import keras\n",
        "from tensorflow.keras import layers"
      ],
      "execution_count": 20,
      "outputs": []
    },
    {
      "cell_type": "code",
      "metadata": {
        "colab": {
          "base_uri": "https://localhost:8080/"
        },
        "id": "g9jZFK8TZ2vo",
        "outputId": "96c9c0c2-4f7a-4fb0-b4c5-268a69b33d89"
      },
      "source": [
        "model = keras.Sequential([\n",
        "    keras.layers.Dense(32, input_shape = (46,), activation = \"relu\"),\n",
        "    keras.layers.Dense(64, activation = \"relu\"),\n",
        "    keras.layers.Dense(1, activation = \"sigmoid\")\n",
        "])\n",
        "model.compile(optimizer='adam',\n",
        "              loss='binary_crossentropy',\n",
        "              metrics=['accuracy'] )\n",
        "\n",
        "model.fit(X_train, y_train, epochs=100)"
      ],
      "execution_count": 21,
      "outputs": [
        {
          "output_type": "stream",
          "name": "stdout",
          "text": [
            "Epoch 1/100\n",
            "177/177 [==============================] - 2s 4ms/step - loss: 14.8414 - accuracy: 0.6810\n",
            "Epoch 2/100\n",
            "177/177 [==============================] - 1s 4ms/step - loss: 1.5625 - accuracy: 0.7155\n",
            "Epoch 3/100\n",
            "177/177 [==============================] - 1s 4ms/step - loss: 1.3776 - accuracy: 0.7203\n",
            "Epoch 4/100\n",
            "177/177 [==============================] - 1s 4ms/step - loss: 0.9673 - accuracy: 0.7472\n",
            "Epoch 5/100\n",
            "177/177 [==============================] - 1s 4ms/step - loss: 1.1046 - accuracy: 0.7387\n",
            "Epoch 6/100\n",
            "177/177 [==============================] - 1s 4ms/step - loss: 1.0584 - accuracy: 0.7471\n",
            "Epoch 7/100\n",
            "177/177 [==============================] - 1s 4ms/step - loss: 1.2326 - accuracy: 0.7394\n",
            "Epoch 8/100\n",
            "177/177 [==============================] - 1s 4ms/step - loss: 1.3765 - accuracy: 0.7472\n",
            "Epoch 9/100\n",
            "177/177 [==============================] - 1s 4ms/step - loss: 0.6995 - accuracy: 0.7583\n",
            "Epoch 10/100\n",
            "177/177 [==============================] - 1s 4ms/step - loss: 0.6603 - accuracy: 0.7703\n",
            "Epoch 11/100\n",
            "177/177 [==============================] - 1s 4ms/step - loss: 0.8336 - accuracy: 0.7526\n",
            "Epoch 12/100\n",
            "177/177 [==============================] - 1s 4ms/step - loss: 1.4398 - accuracy: 0.7426\n",
            "Epoch 13/100\n",
            "177/177 [==============================] - 1s 4ms/step - loss: 1.3038 - accuracy: 0.7421\n",
            "Epoch 14/100\n",
            "177/177 [==============================] - 1s 4ms/step - loss: 1.0162 - accuracy: 0.7510\n",
            "Epoch 15/100\n",
            "177/177 [==============================] - 1s 4ms/step - loss: 0.8414 - accuracy: 0.7641\n",
            "Epoch 16/100\n",
            "177/177 [==============================] - 1s 4ms/step - loss: 1.5645 - accuracy: 0.7393\n",
            "Epoch 17/100\n",
            "177/177 [==============================] - 1s 4ms/step - loss: 1.2385 - accuracy: 0.7533\n",
            "Epoch 18/100\n",
            "177/177 [==============================] - 1s 4ms/step - loss: 0.8000 - accuracy: 0.7579\n",
            "Epoch 19/100\n",
            "177/177 [==============================] - 1s 4ms/step - loss: 0.6942 - accuracy: 0.7709\n",
            "Epoch 20/100\n",
            "177/177 [==============================] - 1s 4ms/step - loss: 0.7347 - accuracy: 0.7707\n",
            "Epoch 21/100\n",
            "177/177 [==============================] - 1s 4ms/step - loss: 1.2927 - accuracy: 0.7405\n",
            "Epoch 22/100\n",
            "177/177 [==============================] - 1s 4ms/step - loss: 0.9148 - accuracy: 0.7591\n",
            "Epoch 23/100\n",
            "177/177 [==============================] - 1s 4ms/step - loss: 0.8879 - accuracy: 0.7543\n",
            "Epoch 24/100\n",
            "177/177 [==============================] - 1s 4ms/step - loss: 0.6913 - accuracy: 0.7657\n",
            "Epoch 25/100\n",
            "177/177 [==============================] - 1s 4ms/step - loss: 1.2057 - accuracy: 0.7442\n",
            "Epoch 26/100\n",
            "177/177 [==============================] - 1s 4ms/step - loss: 0.7280 - accuracy: 0.7639\n",
            "Epoch 27/100\n",
            "177/177 [==============================] - 1s 4ms/step - loss: 0.6982 - accuracy: 0.7684\n",
            "Epoch 28/100\n",
            "177/177 [==============================] - 1s 4ms/step - loss: 0.6554 - accuracy: 0.7730\n",
            "Epoch 29/100\n",
            "177/177 [==============================] - 1s 4ms/step - loss: 0.7613 - accuracy: 0.7600\n",
            "Epoch 30/100\n",
            "177/177 [==============================] - 1s 4ms/step - loss: 0.6690 - accuracy: 0.7714\n",
            "Epoch 31/100\n",
            "177/177 [==============================] - 1s 4ms/step - loss: 0.8242 - accuracy: 0.7533\n",
            "Epoch 32/100\n",
            "177/177 [==============================] - 1s 4ms/step - loss: 0.7849 - accuracy: 0.7694\n",
            "Epoch 33/100\n",
            "177/177 [==============================] - 1s 4ms/step - loss: 0.6054 - accuracy: 0.7760\n",
            "Epoch 34/100\n",
            "177/177 [==============================] - 1s 4ms/step - loss: 0.8279 - accuracy: 0.7703\n",
            "Epoch 35/100\n",
            "177/177 [==============================] - 1s 4ms/step - loss: 0.6684 - accuracy: 0.7735\n",
            "Epoch 36/100\n",
            "177/177 [==============================] - 1s 4ms/step - loss: 0.6852 - accuracy: 0.7685\n",
            "Epoch 37/100\n",
            "177/177 [==============================] - 1s 4ms/step - loss: 0.6521 - accuracy: 0.7701\n",
            "Epoch 38/100\n",
            "177/177 [==============================] - 1s 4ms/step - loss: 0.8403 - accuracy: 0.7639\n",
            "Epoch 39/100\n",
            "177/177 [==============================] - 1s 4ms/step - loss: 0.8016 - accuracy: 0.7545\n",
            "Epoch 40/100\n",
            "177/177 [==============================] - 1s 4ms/step - loss: 0.6294 - accuracy: 0.7771\n",
            "Epoch 41/100\n",
            "177/177 [==============================] - 1s 4ms/step - loss: 0.8098 - accuracy: 0.7719\n",
            "Epoch 42/100\n",
            "177/177 [==============================] - 1s 4ms/step - loss: 0.8145 - accuracy: 0.7673\n",
            "Epoch 43/100\n",
            "177/177 [==============================] - 1s 4ms/step - loss: 0.6706 - accuracy: 0.7725\n",
            "Epoch 44/100\n",
            "177/177 [==============================] - 1s 4ms/step - loss: 0.8299 - accuracy: 0.7627\n",
            "Epoch 45/100\n",
            "177/177 [==============================] - 1s 4ms/step - loss: 0.7162 - accuracy: 0.7643\n",
            "Epoch 46/100\n",
            "177/177 [==============================] - 1s 4ms/step - loss: 0.8044 - accuracy: 0.7609\n",
            "Epoch 47/100\n",
            "177/177 [==============================] - 1s 4ms/step - loss: 0.6207 - accuracy: 0.7780\n",
            "Epoch 48/100\n",
            "177/177 [==============================] - 1s 4ms/step - loss: 0.5003 - accuracy: 0.7827\n",
            "Epoch 49/100\n",
            "177/177 [==============================] - 1s 4ms/step - loss: 0.7308 - accuracy: 0.7710\n",
            "Epoch 50/100\n",
            "177/177 [==============================] - 1s 4ms/step - loss: 0.5349 - accuracy: 0.7817\n",
            "Epoch 51/100\n",
            "177/177 [==============================] - 1s 4ms/step - loss: 0.6189 - accuracy: 0.7764\n",
            "Epoch 52/100\n",
            "177/177 [==============================] - 1s 4ms/step - loss: 0.6098 - accuracy: 0.7716\n",
            "Epoch 53/100\n",
            "177/177 [==============================] - 1s 4ms/step - loss: 0.6609 - accuracy: 0.7678\n",
            "Epoch 54/100\n",
            "177/177 [==============================] - 1s 4ms/step - loss: 0.8102 - accuracy: 0.7570\n",
            "Epoch 55/100\n",
            "177/177 [==============================] - 1s 4ms/step - loss: 0.6094 - accuracy: 0.7796\n",
            "Epoch 56/100\n",
            "177/177 [==============================] - 1s 4ms/step - loss: 0.5705 - accuracy: 0.7767\n",
            "Epoch 57/100\n",
            "177/177 [==============================] - 1s 4ms/step - loss: 0.5737 - accuracy: 0.7762\n",
            "Epoch 58/100\n",
            "177/177 [==============================] - 1s 4ms/step - loss: 0.5454 - accuracy: 0.7785\n",
            "Epoch 59/100\n",
            "177/177 [==============================] - 1s 4ms/step - loss: 0.5641 - accuracy: 0.7764\n",
            "Epoch 60/100\n",
            "177/177 [==============================] - 1s 4ms/step - loss: 0.5579 - accuracy: 0.7785\n",
            "Epoch 61/100\n",
            "177/177 [==============================] - 1s 4ms/step - loss: 0.5942 - accuracy: 0.7753\n",
            "Epoch 62/100\n",
            "177/177 [==============================] - 1s 4ms/step - loss: 0.5523 - accuracy: 0.7812\n",
            "Epoch 63/100\n",
            "177/177 [==============================] - 1s 4ms/step - loss: 0.7174 - accuracy: 0.7650\n",
            "Epoch 64/100\n",
            "177/177 [==============================] - 1s 4ms/step - loss: 0.5320 - accuracy: 0.7870\n",
            "Epoch 65/100\n",
            "177/177 [==============================] - 1s 4ms/step - loss: 0.5865 - accuracy: 0.7771\n",
            "Epoch 66/100\n",
            "177/177 [==============================] - 1s 4ms/step - loss: 0.5086 - accuracy: 0.7838\n",
            "Epoch 67/100\n",
            "177/177 [==============================] - 1s 4ms/step - loss: 0.5598 - accuracy: 0.7810\n",
            "Epoch 68/100\n",
            "177/177 [==============================] - 1s 4ms/step - loss: 0.8550 - accuracy: 0.7567\n",
            "Epoch 69/100\n",
            "177/177 [==============================] - 1s 4ms/step - loss: 0.6477 - accuracy: 0.7657\n",
            "Epoch 70/100\n",
            "177/177 [==============================] - 1s 4ms/step - loss: 0.5165 - accuracy: 0.7758\n",
            "Epoch 71/100\n",
            "177/177 [==============================] - 1s 4ms/step - loss: 0.5666 - accuracy: 0.7693\n",
            "Epoch 72/100\n",
            "177/177 [==============================] - 1s 4ms/step - loss: 0.6029 - accuracy: 0.7694\n",
            "Epoch 73/100\n",
            "177/177 [==============================] - 1s 4ms/step - loss: 0.5597 - accuracy: 0.7778\n",
            "Epoch 74/100\n",
            "177/177 [==============================] - 1s 4ms/step - loss: 0.4817 - accuracy: 0.7902\n",
            "Epoch 75/100\n",
            "177/177 [==============================] - 1s 4ms/step - loss: 0.4948 - accuracy: 0.7835\n",
            "Epoch 76/100\n",
            "177/177 [==============================] - 1s 4ms/step - loss: 0.4975 - accuracy: 0.7865\n",
            "Epoch 77/100\n",
            "177/177 [==============================] - 1s 4ms/step - loss: 0.5403 - accuracy: 0.7810\n",
            "Epoch 78/100\n",
            "177/177 [==============================] - 1s 4ms/step - loss: 0.4634 - accuracy: 0.7918\n",
            "Epoch 79/100\n",
            "177/177 [==============================] - 1s 4ms/step - loss: 0.6318 - accuracy: 0.7693\n",
            "Epoch 80/100\n",
            "177/177 [==============================] - 1s 4ms/step - loss: 0.5430 - accuracy: 0.7806\n",
            "Epoch 81/100\n",
            "177/177 [==============================] - 1s 4ms/step - loss: 0.4704 - accuracy: 0.7907\n",
            "Epoch 82/100\n",
            "177/177 [==============================] - 1s 4ms/step - loss: 0.4931 - accuracy: 0.7840\n",
            "Epoch 83/100\n",
            "177/177 [==============================] - 1s 4ms/step - loss: 0.4987 - accuracy: 0.7849\n",
            "Epoch 84/100\n",
            "177/177 [==============================] - 1s 4ms/step - loss: 0.7319 - accuracy: 0.7827\n",
            "Epoch 85/100\n",
            "177/177 [==============================] - 1s 4ms/step - loss: 0.4556 - accuracy: 0.7962\n",
            "Epoch 86/100\n",
            "177/177 [==============================] - 1s 4ms/step - loss: 0.5363 - accuracy: 0.7820\n",
            "Epoch 87/100\n",
            "177/177 [==============================] - 1s 4ms/step - loss: 0.4840 - accuracy: 0.7833\n",
            "Epoch 88/100\n",
            "177/177 [==============================] - 1s 4ms/step - loss: 0.4790 - accuracy: 0.7945\n",
            "Epoch 89/100\n",
            "177/177 [==============================] - 1s 4ms/step - loss: 0.5400 - accuracy: 0.7847\n",
            "Epoch 90/100\n",
            "177/177 [==============================] - 1s 4ms/step - loss: 0.4897 - accuracy: 0.7843\n",
            "Epoch 91/100\n",
            "177/177 [==============================] - 1s 4ms/step - loss: 0.5160 - accuracy: 0.7826\n",
            "Epoch 92/100\n",
            "177/177 [==============================] - 1s 4ms/step - loss: 0.4681 - accuracy: 0.7961\n",
            "Epoch 93/100\n",
            "177/177 [==============================] - 1s 4ms/step - loss: 0.4585 - accuracy: 0.7938\n",
            "Epoch 94/100\n",
            "177/177 [==============================] - 1s 4ms/step - loss: 0.5187 - accuracy: 0.7817\n",
            "Epoch 95/100\n",
            "177/177 [==============================] - 1s 4ms/step - loss: 0.4787 - accuracy: 0.7877\n",
            "Epoch 96/100\n",
            "177/177 [==============================] - 1s 4ms/step - loss: 0.4466 - accuracy: 0.7923\n",
            "Epoch 97/100\n",
            "177/177 [==============================] - 1s 4ms/step - loss: 0.4815 - accuracy: 0.7888\n",
            "Epoch 98/100\n",
            "177/177 [==============================] - 1s 4ms/step - loss: 0.4979 - accuracy: 0.7859\n",
            "Epoch 99/100\n",
            "177/177 [==============================] - 1s 4ms/step - loss: 0.4907 - accuracy: 0.7861\n",
            "Epoch 100/100\n",
            "177/177 [==============================] - 1s 4ms/step - loss: 0.4859 - accuracy: 0.7870\n"
          ]
        },
        {
          "output_type": "execute_result",
          "data": {
            "text/plain": [
              "<keras.callbacks.History at 0x7fe8903d7710>"
            ]
          },
          "metadata": {},
          "execution_count": 21
        }
      ]
    },
    {
      "cell_type": "code",
      "metadata": {
        "id": "gIKGMoD4Z20W"
      },
      "source": [
        "y_predicted = model.predict(X_valid)"
      ],
      "execution_count": 22,
      "outputs": []
    },
    {
      "cell_type": "code",
      "metadata": {
        "id": "p7U6HYd9rkr3"
      },
      "source": [
        "y_pred = []\n",
        "for element in y_predicted:\n",
        "    if element > 0.5:\n",
        "        y_pred.append(1)\n",
        "    else:\n",
        "        y_pred.append(0)"
      ],
      "execution_count": 23,
      "outputs": []
    },
    {
      "cell_type": "code",
      "metadata": {
        "colab": {
          "base_uri": "https://localhost:8080/"
        },
        "id": "h12xiavNrzxW",
        "outputId": "4393b0cd-ddb8-404b-8925-5b23b684193b"
      },
      "source": [
        "from sklearn.metrics import confusion_matrix, classification_report\n",
        "print(classification_report(y_valid, y_pred))"
      ],
      "execution_count": 24,
      "outputs": [
        {
          "output_type": "stream",
          "name": "stdout",
          "text": [
            "              precision    recall  f1-score   support\n",
            "\n",
            "           0       0.88      0.82      0.85      1036\n",
            "           1       0.58      0.70      0.64       373\n",
            "\n",
            "    accuracy                           0.79      1409\n",
            "   macro avg       0.73      0.76      0.74      1409\n",
            "weighted avg       0.81      0.79      0.79      1409\n",
            "\n"
          ]
        }
      ]
    },
    {
      "cell_type": "code",
      "metadata": {
        "colab": {
          "base_uri": "https://localhost:8080/",
          "height": 351
        },
        "id": "u87sDPjDsFuY",
        "outputId": "48705606-bbc4-4d19-ba26-34dd66d226c1"
      },
      "source": [
        "import matplotlib.pyplot as plt\n",
        "import seaborn as sn\n",
        "cm = tf.math.confusion_matrix(labels = y_valid, predictions = y_pred)\n",
        "plt.figure(figsize = (8,5))\n",
        "sn.heatmap(cm, annot = True, fmt='d')\n",
        "plt.xlabel('Predicted')\n",
        "plt.ylabel('Truth')"
      ],
      "execution_count": 25,
      "outputs": [
        {
          "output_type": "execute_result",
          "data": {
            "text/plain": [
              "Text(51.0, 0.5, 'Truth')"
            ]
          },
          "metadata": {},
          "execution_count": 25
        },
        {
          "output_type": "display_data",
          "data": {
            "image/png": "[encoded data removed]",
            "text/plain": [
              "<Figure size 576x360 with 2 Axes>"
            ]
          },
          "metadata": {
            "needs_background": "light"
          }
        }
      ]
    }
  ]
}